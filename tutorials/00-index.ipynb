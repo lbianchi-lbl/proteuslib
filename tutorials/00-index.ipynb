{
 "cells": [
  {
   "cell_type": "markdown",
   "id": "92ce17d2-5634-4d15-8f06-e21c4cf08f0e",
   "metadata": {},
   "source": [
    "# WaterTAP Tutorials\n",
    "\n",
    "## Basic\n",
    "\n",
    "- [WaterTAP Introduction Tutorial](./introduction.ipynb)\n",
    "  > A quick introduction to Pyomo, followed by examples that illustrate the application of WaterTAP property models, unit models, flowsheet models, and cost optimization.\n",
    "- [Introduction to the Reverse Osmosis Unit Model](./reverse_osmosis_0D.ipynb)\n",
    "  > An introduction to using WaterTAP's reverse osmosis model with its simplest configuration settings.\n",
    "## Advanced\n",
    "\n",
    "- [Benchmark Simulation Model (BSM) 2](./BSM2.ipynb)\n",
    "  > A demonstration on how to build, initialize, and simulate the flowsheet for Benchmark Simulation Model No. 2 (BSM2), a process model for representing a full wastewater treatment plant.\n",
    "- [Modeling Multicomponent Rejection with Nanofiltration](./modeling_multicomponent_rejection.ipynb)\n",
    "  > A tutorial on how to build, initialize, and simulate a flowsheet that utilizes the Donnan Steric Pore Model w/Dielectric Exclusion (DSPM-DE) for predicting multicomponent rejection with nanofiltration.\n",
    "- [OLI Calculations in WaterTAP](./oli_calculations.ipynb)\n",
    "  > A tutorial that shows how to login and make calls to the OLI Cloud API for advanced aqueous chemistry calculations. Note: an OLI license is required to make use of this tutorial and OLI API functionality."
   ]
  },
  {
   "cell_type": "markdown",
   "id": "c29fb18e",
   "metadata": {},
   "source": []
  }
 ],
 "metadata": {
  "kernelspec": {
   "display_name": "watertap-dev",
   "language": "python",
   "name": "watertap-dev"
  },
  "language_info": {
   "codemirror_mode": {
    "name": "ipython",
    "version": 3
   },
   "file_extension": ".py",
   "mimetype": "text/x-python",
   "name": "python",
   "nbconvert_exporter": "python",
   "pygments_lexer": "ipython3",
   "version": "3.8.12"
  }
 },
 "nbformat": 4,
 "nbformat_minor": 5
}
