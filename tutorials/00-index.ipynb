{
 "cells": [
  {
   "cell_type": "markdown",
   "id": "92ce17d2-5634-4d15-8f06-e21c4cf08f0e",
   "metadata": {},
   "source": [
    "# WaterTAP Tutorials\n",
    "\n",
    "## Basic\n",
    "\n",
    "- [Introduction to Pyomo](./introduction.ipynb)\n",
    "  > An optional description of what the tutorial is doing, and the types of users who might be particularly interested in it.\n",
    "\n",
    "## Advanced\n",
    "\n",
    "- [Benchmark Simulation Model (BSM) 2](./BSM2.ipynb)"
   ]
  }
 ],
 "metadata": {
  "kernelspec": {
   "display_name": "watertap-dev",
   "language": "python",
   "name": "watertap-dev"
  },
  "language_info": {
   "codemirror_mode": {
    "name": "ipython",
    "version": 3
   },
   "file_extension": ".py",
   "mimetype": "text/x-python",
   "name": "python",
   "nbconvert_exporter": "python",
   "pygments_lexer": "ipython3",
   "version": "3.8.12"
  }
 },
 "nbformat": 4,
 "nbformat_minor": 5
}
